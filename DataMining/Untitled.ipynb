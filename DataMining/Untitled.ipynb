{
 "cells": [
  {
   "cell_type": "code",
   "execution_count": 27,
   "id": "83f5e0df-fc4b-4114-8ebe-876f13d02414",
   "metadata": {},
   "outputs": [],
   "source": [
    "import pandas as pd\n",
    "import numpy as np\n",
    "import ase\n",
    "from ase.io import read\n",
    "from io import StringIO\n"
   ]
  },
  {
   "cell_type": "code",
   "execution_count": 45,
   "id": "240999fc-112c-4fc3-a830-b320c0bcef75",
   "metadata": {},
   "outputs": [
    {
     "data": {
      "text/plain": [
       "['Cu', 'As', 'S', 'O', 'O']"
      ]
     },
     "execution_count": 45,
     "metadata": {},
     "output_type": "execute_result"
    }
   ],
   "source": [
    "data = pd.read_csv(\"perov5/test.csv\")\n",
    "cif1 = data['cif'][10]\n",
    "lines = cif1.strip().split('\\n')\n",
    "\n",
    "lengths = np.array([line.split()[1] for line in lines[3:6]], dtype=float)\n",
    "angles = np.array([line.split()[1] for line in lines[6:9]], dtype=float)\n",
    "atom_types = [line.split()[0] for line in lines[26:]]\n",
    "atom_types"
   ]
  },
  {
   "cell_type": "code",
   "execution_count": 51,
   "id": "2845346b-7a53-4875-ae10-3a3014f42ef6",
   "metadata": {},
   "outputs": [],
   "source": [
    "data = pd.read_csv(\"perov5/test.csv\")\n",
    "cif1 = StringIO(data['cif'][10])\n",
    "structure = read(cif1, format=\"cif\")\n",
    "\n",
    "lengths = np.array(structure.get_cell().lengths(), dtype=float)\n",
    "angles = np.array(structure.get_cell().angles(), dtype=float)\n",
    "atom_types = structure.get_chemical_symbols()\n",
    "num_atoms = len(atom_types)\n",
    "frac_cords = np.array(structure.get_scaled_positions(), dtype=float)"
   ]
  },
  {
   "cell_type": "code",
   "execution_count": 52,
   "id": "c322b034-9714-4b93-82a4-5ea96a4ccc55",
   "metadata": {},
   "outputs": [
    {
     "data": {
      "text/plain": [
       "array([[0.29436098, 0.        , 0.        ],\n",
       "       [0.5496278 , 0.5       , 0.5       ],\n",
       "       [0.30689326, 0.        , 0.5       ],\n",
       "       [0.4278454 , 0.5       , 0.        ],\n",
       "       [0.94484628, 0.5       , 0.5       ]])"
      ]
     },
     "execution_count": 52,
     "metadata": {},
     "output_type": "execute_result"
    }
   ],
   "source": [
    "frac_cords"
   ]
  }
 ],
 "metadata": {
  "kernelspec": {
   "display_name": "Python 3 (ipykernel)",
   "language": "python",
   "name": "python3"
  },
  "language_info": {
   "codemirror_mode": {
    "name": "ipython",
    "version": 3
   },
   "file_extension": ".py",
   "mimetype": "text/x-python",
   "name": "python",
   "nbconvert_exporter": "python",
   "pygments_lexer": "ipython3",
   "version": "3.10.6"
  }
 },
 "nbformat": 4,
 "nbformat_minor": 5
}
