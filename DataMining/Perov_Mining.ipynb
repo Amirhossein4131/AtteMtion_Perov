{
 "cells": [
  {
   "cell_type": "code",
   "execution_count": 1,
   "id": "5b16f5bb-9690-4392-8fb8-21175849bea0",
   "metadata": {},
   "outputs": [],
   "source": [
    "import numpy as np\n",
    "import pandas as pd\n",
    "import re"
   ]
  },
  {
   "cell_type": "code",
   "execution_count": 37,
   "id": "d02ba2b9-3eec-43bb-8184-a8c2e2146235",
   "metadata": {},
   "outputs": [
    {
     "name": "stdout",
     "output_type": "stream",
     "text": [
      "18928\n"
     ]
    }
   ],
   "source": [
    "train = pd.read_csv(\"perov5/train.csv\")\n",
    "df = pd.DataFrame(train)\n",
    "print(len(train))\n",
    "\n",
    "def get_formula(dataset):\n",
    "    formula = [formula for formula in dataset[\"formula\"]]\n",
    "    return formula\n",
    "\n",
    "formulas = get_formula(dataset=train)"
   ]
  },
  {
   "cell_type": "code",
   "execution_count": 6,
   "id": "fd164968-3f4b-413d-8a57-246cb0533a97",
   "metadata": {},
   "outputs": [],
   "source": [
    "def separate_elements(formula):\n",
    "    # Regular expression to match elements and their counts\n",
    "    pattern = r'[A-Z][a-z]?[0-9]*'\n",
    "    elements = re.findall(pattern, formula)\n",
    "    return elements\n",
    "\n",
    "separated_formulas = [separate_elements(formula) for formula in formulas]"
   ]
  },
  {
   "cell_type": "markdown",
   "id": "bcdf22f6-d9ca-4e34-b354-98adae222d59",
   "metadata": {},
   "source": [
    "## Mining three element compounds"
   ]
  },
  {
   "cell_type": "markdown",
   "id": "dd9d006e-9b13-4132-9b62-a0eba41d0cd3",
   "metadata": {},
   "source": [
    "#### Get the list of unique X3 in ABX3"
   ]
  },
  {
   "cell_type": "code",
   "execution_count": 17,
   "id": "1d333771-0ff4-4a4b-9738-da5eb12a80ba",
   "metadata": {},
   "outputs": [
    {
     "name": "stdout",
     "output_type": "stream",
     "text": [
      "{'N3', 'O3'}\n"
     ]
    }
   ],
   "source": [
    "# Step 2: Select only those lists of elements that have exactly three elements\n",
    "three_elements = [elements for elements in separated_formulas if len(elements) == 3]\n",
    "three_elements_N3 = [elements for elements in three_elements if elements[-1] == \"N3\"]\n",
    "joined_three_elements_N3 = [''.join(sublist) for sublist in three_elements_N3]\n",
    "\n",
    "\n",
    "# Step 3: Extract the last element from each of these lists\n",
    "last_elements = [elements[-1] for elements in three_elements]\n",
    "\n",
    "# Step 4: Get the unique last elements by converting the list to a set\n",
    "unique_last_elements = set(last_elements)\n",
    "\n",
    "# Step 5: Print the unique last elements\n",
    "print(unique_last_elements)\n"
   ]
  },
  {
   "cell_type": "code",
   "execution_count": 22,
   "id": "8a795a91-7254-4776-bdc0-7f06f9f02325",
   "metadata": {},
   "outputs": [
    {
     "data": {
      "text/plain": [
       "'CrTeN3'"
      ]
     },
     "execution_count": 22,
     "metadata": {},
     "output_type": "execute_result"
    }
   ],
   "source": [
    "joined_three_elements_N3[0]"
   ]
  },
  {
   "cell_type": "markdown",
   "id": "d8c912ae-6221-411f-b993-d7047c1e4670",
   "metadata": {},
   "source": [
    "#### Saving these configurations into separated CSV files. "
   ]
  },
  {
   "cell_type": "code",
   "execution_count": 45,
   "id": "33a1ae56-1275-43c4-825b-8f985f53a469",
   "metadata": {},
   "outputs": [],
   "source": [
    "filtered_df.to_csv('N3.csv', index=False)\n"
   ]
  }
 ],
 "metadata": {
  "kernelspec": {
   "display_name": "Python 3 (ipykernel)",
   "language": "python",
   "name": "python3"
  },
  "language_info": {
   "codemirror_mode": {
    "name": "ipython",
    "version": 3
   },
   "file_extension": ".py",
   "mimetype": "text/x-python",
   "name": "python",
   "nbconvert_exporter": "python",
   "pygments_lexer": "ipython3",
   "version": "3.10.12"
  }
 },
 "nbformat": 4,
 "nbformat_minor": 5
}
